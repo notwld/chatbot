{
  "nbformat": 4,
  "nbformat_minor": 0,
  "metadata": {
    "colab": {
      "provenance": [],
      "authorship_tag": "ABX9TyPbsrDEmoSI3zgcDuB4M1ab",
      "include_colab_link": true
    },
    "kernelspec": {
      "name": "python3",
      "display_name": "Python 3"
    },
    "language_info": {
      "name": "python"
    }
  },
  "cells": [
    {
      "cell_type": "markdown",
      "metadata": {
        "id": "view-in-github",
        "colab_type": "text"
      },
      "source": [
        "<a href=\"https://colab.research.google.com/github/notwld/chatbot/blob/main/main.ipynb\" target=\"_parent\"><img src=\"https://colab.research.google.com/assets/colab-badge.svg\" alt=\"Open In Colab\"/></a>"
      ]
    },
    {
      "cell_type": "code",
      "execution_count": 25,
      "metadata": {
        "colab": {
          "base_uri": "https://localhost:8080/"
        },
        "id": "dbxg-9gJdCxo",
        "outputId": "ce6f4eb8-3ee1-47d4-cf55-1f4509f6b7d8"
      },
      "outputs": [
        {
          "output_type": "stream",
          "name": "stderr",
          "text": [
            "[nltk_data] Downloading package punkt to /root/nltk_data...\n",
            "[nltk_data]   Package punkt is already up-to-date!\n"
          ]
        }
      ],
      "source": [
        "import nltk\n",
        "nltk.download(\"punkt\")\n",
        "\n",
        "from nltk.stem import PorterStemmer\n",
        "stemmer = PorterStemmer()\n",
        "\n",
        "import tensorflow as tf\n",
        "import numpy as np\n",
        "import random,json"
      ]
    },
    {
      "cell_type": "code",
      "source": [
        "# Using google colab's files method to upload json file which contains the data \n",
        "\n",
        "# from google.colab import files\n",
        "# files.upload()\n"
      ],
      "metadata": {
        "id": "j5TEajvqdyBl"
      },
      "execution_count": 26,
      "outputs": []
    },
    {
      "cell_type": "code",
      "source": [
        "with open(\"intents.json\",'r') as data:\n",
        "  intents = json.load(data)"
      ],
      "metadata": {
        "id": "I9ubHMBfeEGD"
      },
      "execution_count": 27,
      "outputs": []
    },
    {
      "cell_type": "code",
      "source": [
        "intents"
      ],
      "metadata": {
        "colab": {
          "base_uri": "https://localhost:8080/"
        },
        "id": "tk9AOMB0fXgj",
        "outputId": "501045db-ded7-47ec-bfe3-06493fe6b461"
      },
      "execution_count": 28,
      "outputs": [
        {
          "output_type": "execute_result",
          "data": {
            "text/plain": [
              "{'intents': [{'tag': 'greeting',\n",
              "   'patterns': ['Hi', 'How are you', 'Is anyone there?', 'Hello', 'Good day'],\n",
              "   'responses': ['Hello, thanks for visiting',\n",
              "    'Good to see you again',\n",
              "    'Hi there, how can I help?'],\n",
              "   'context_set': ''},\n",
              "  {'tag': 'goodbye',\n",
              "   'patterns': ['Bye', 'See you later', 'Goodbye'],\n",
              "   'responses': ['See you later, thanks for visiting',\n",
              "    'Have a nice day',\n",
              "    'Bye! Come back again soon.']},\n",
              "  {'tag': 'thanks',\n",
              "   'patterns': ['Thanks', 'Thank you', \"That's helpful\"],\n",
              "   'responses': ['Happy to help!', 'Any time!', 'My pleasure']},\n",
              "  {'tag': 'chatbot',\n",
              "   'patterns': ['Who built this chatbot?',\n",
              "    'Tell me about Chatbot',\n",
              "    'What is this chatbot name?'],\n",
              "   'responses': ['Hi, I am Chatbot designed by Mayank.',\n",
              "    'Thanks for asking. I am designed by Mayank Bajaj.',\n",
              "    'I am a chatbot.']},\n",
              "  {'tag': 'location',\n",
              "   'patterns': ['What is your location?',\n",
              "    'Where are you located?',\n",
              "    'What is your address?'],\n",
              "   'responses': [\"We are from World's largest Democracy India.\",\n",
              "    'You can visit India to meet us',\n",
              "    'Thans for your Interest. I live in India.']},\n",
              "  {'tag': 'connect',\n",
              "   'patterns': ['Give me your social media accounts link',\n",
              "    'Where can we connect',\n",
              "    'How can i reach out to you?',\n",
              "    'Is there any way we can connect'],\n",
              "   'responses': ['You can connect me on Linkedin or Github \\n Linkedin - https://www.linkedin.com/in/mayank-bajaj/ \\n Github - https://github.com/mayank8200',\n",
              "    'You can visit https://mayank-bajaj.me']},\n",
              "  {'tag': 'movies',\n",
              "   'patterns': ['Which is your favourite movie?',\n",
              "    'Suggest me some movies',\n",
              "    'Recommend movies'],\n",
              "   'responses': ['3 idiots',\n",
              "    'Hera Pheri',\n",
              "    'Lage Raho Munna Bhai',\n",
              "    'OMG: Oh My God!',\n",
              "    'PK',\n",
              "    'Yeh Jawani hai Deewani',\n",
              "    'Zindagi na Milegi Doobara',\n",
              "    'Ludo']},\n",
              "  {'tag': 'about',\n",
              "   'patterns': ['Who are you?', 'Tell me about Yourself', 'What is this?'],\n",
              "   'responses': ['Hi, I am Mayank. Nice to meet you. I made this chatbot for fun and practice.',\n",
              "    'Thanks for asking. I am Mayank Bajaj, coder by profession but ML enthusiast by passion.']}]}"
            ]
          },
          "metadata": {},
          "execution_count": 28
        }
      ]
    },
    {
      "cell_type": "code",
      "source": [
        "words = []\n",
        "classes = []\n",
        "documents = []\n",
        "ignore = [\"?\"]"
      ],
      "metadata": {
        "id": "i_1vekVUfrGq"
      },
      "execution_count": 29,
      "outputs": []
    },
    {
      "cell_type": "code",
      "source": [
        "# data preprocessing: looping through json file which is saved in variable \n",
        "# intents and tokenizing the patterns, extract word with it's tag and saving \n",
        "# them in the list.\n",
        "\n",
        "for intent in intents[\"intents\"]:\n",
        "  for pattern in intent[\"patterns\"]:\n",
        "    word = nltk.word_tokenize(pattern)\n",
        "    words.extend(word)\n",
        "\n",
        "    documents.append((word,intent[\"tag\"]))\n",
        "    if intent['tag'] not in classes:\n",
        "      classes.append(intent['tag'])\n",
        "\n"
      ],
      "metadata": {
        "id": "GhRrR3AHgXRC"
      },
      "execution_count": 30,
      "outputs": []
    },
    {
      "cell_type": "code",
      "source": [
        "words = [stemmer.stem(word.lower()) for word in words if word not in ignore]\n",
        "words = sorted(list(set(words)))\n",
        "\n",
        "classes = sorted(list(set(classes)))\n"
      ],
      "metadata": {
        "id": "Ow76NN8MidyP"
      },
      "execution_count": 39,
      "outputs": []
    },
    {
      "cell_type": "code",
      "source": [
        "print(\"Total documents:\", len(documents))\n",
        "print(\"Total classes:\", len(classes))\n",
        "print(\"Total unique words:\", len(words))"
      ],
      "metadata": {
        "colab": {
          "base_uri": "https://localhost:8080/"
        },
        "id": "qrn1mLTTjHHx",
        "outputId": "ea457b54-fb13-4bc7-b752-e18c92296861"
      },
      "execution_count": 40,
      "outputs": [
        {
          "output_type": "stream",
          "name": "stdout",
          "text": [
            "Total documents: 27\n",
            "Total classes: 8\n",
            "Total unique words: 52\n"
          ]
        }
      ]
    },
    {
      "cell_type": "code",
      "source": [
        "# creating lists for training the data\n",
        "\n",
        "train = [] # f(x)\n",
        "output = [] # f(y)\n",
        "\n",
        "output_empty = [0] * len(classes)"
      ],
      "metadata": {
        "id": "pqWFzi5zmOix"
      },
      "execution_count": 41,
      "outputs": []
    },
    {
      "cell_type": "code",
      "source": [
        "#test\n",
        "\n",
        "documents[0]"
      ],
      "metadata": {
        "colab": {
          "base_uri": "https://localhost:8080/"
        },
        "id": "NtZBWJEBnRAK",
        "outputId": "e150bfce-3fd3-4f73-f8b1-a81c72a163cd"
      },
      "execution_count": 42,
      "outputs": [
        {
          "output_type": "execute_result",
          "data": {
            "text/plain": [
              "(['Hi'], 'greeting')"
            ]
          },
          "metadata": {},
          "execution_count": 42
        }
      ]
    },
    {
      "cell_type": "code",
      "source": [
        "for doc in documents:\n",
        "  bag = []\n",
        "  pattern_words = doc[0]\n",
        "  pattern_words = [stemmer.stem(word.lower()) for word in pattern_words]\n",
        "  for w in words:\n",
        "    bag.append(1) if word in pattern_words else bag.append(0)\n",
        "\n",
        "  output_row = list(output_empty)\n",
        "  output_row[classes.index(doc[1])]=1\n",
        "\n",
        "  train.append([bag,output_row])\n",
        "\n",
        "random.shuffle(train)\n",
        "\n",
        "train = np.array(train)\n",
        "\n",
        "x = list(train[:,0])\n",
        "y = list(train[:,1])\n"
      ],
      "metadata": {
        "colab": {
          "base_uri": "https://localhost:8080/"
        },
        "id": "yJKFDuf9nWGS",
        "outputId": "351cd4a6-1638-49c9-b8ab-5533327bafd7"
      },
      "execution_count": 44,
      "outputs": [
        {
          "output_type": "stream",
          "name": "stderr",
          "text": [
            "<ipython-input-44-719e020afe1d>:15: VisibleDeprecationWarning: Creating an ndarray from ragged nested sequences (which is a list-or-tuple of lists-or-tuples-or ndarrays with different lengths or shapes) is deprecated. If you meant to do this, you must specify 'dtype=object' when creating the ndarray.\n",
            "  train = np.array(train)\n"
          ]
        }
      ]
    },
    {
      "cell_type": "code",
      "source": [
        "model = tf.keras.Sequential()\n",
        "model.add(tf.keras.layers.Dense(10,input_shape=(len(x[0]),)))\n",
        "model.add(tf.keras.layers.Dense(10))\n",
        "model.add(tf.keras.layers.Dense(len(y[0]),activation=\"softmax\"))\n",
        "\n",
        "model.compile(tf.keras.optimizers.Adam(),loss=\"categorical_crossentropy\",metrics=[\"accuracy\"])"
      ],
      "metadata": {
        "id": "aj8ncOWOuZFR"
      },
      "execution_count": 48,
      "outputs": []
    },
    {
      "cell_type": "code",
      "source": [
        "model.fit(np.array(x),np.array(y),epochs=100,batch_size=8,verbose=1)\n",
        "model.save(\"model.pkl\")"
      ],
      "metadata": {
        "colab": {
          "base_uri": "https://localhost:8080/"
        },
        "id": "tNOr9PobwPyX",
        "outputId": "79cc5c41-ded9-43db-9acf-dfbed3caab8f"
      },
      "execution_count": 49,
      "outputs": [
        {
          "output_type": "stream",
          "name": "stdout",
          "text": [
            "Epoch 1/100\n",
            "4/4 [==============================] - 1s 7ms/step - loss: 2.0811 - accuracy: 0.0370\n",
            "Epoch 2/100\n",
            "4/4 [==============================] - 0s 5ms/step - loss: 2.0792 - accuracy: 0.1481\n",
            "Epoch 3/100\n",
            "4/4 [==============================] - 0s 5ms/step - loss: 2.0786 - accuracy: 0.1481\n",
            "Epoch 4/100\n",
            "4/4 [==============================] - 0s 4ms/step - loss: 2.0787 - accuracy: 0.1852\n",
            "Epoch 5/100\n",
            "4/4 [==============================] - 0s 4ms/step - loss: 2.0780 - accuracy: 0.1852\n",
            "Epoch 6/100\n",
            "4/4 [==============================] - 0s 5ms/step - loss: 2.0775 - accuracy: 0.1852\n",
            "Epoch 7/100\n",
            "4/4 [==============================] - 0s 4ms/step - loss: 2.0776 - accuracy: 0.1852\n",
            "Epoch 8/100\n",
            "4/4 [==============================] - 0s 4ms/step - loss: 2.0766 - accuracy: 0.1852\n",
            "Epoch 9/100\n",
            "4/4 [==============================] - 0s 3ms/step - loss: 2.0766 - accuracy: 0.1852\n",
            "Epoch 10/100\n",
            "4/4 [==============================] - 0s 4ms/step - loss: 2.0762 - accuracy: 0.1852\n",
            "Epoch 11/100\n",
            "4/4 [==============================] - 0s 4ms/step - loss: 2.0759 - accuracy: 0.1852\n",
            "Epoch 12/100\n",
            "4/4 [==============================] - 0s 3ms/step - loss: 2.0754 - accuracy: 0.1852\n",
            "Epoch 13/100\n",
            "4/4 [==============================] - 0s 4ms/step - loss: 2.0755 - accuracy: 0.1852\n",
            "Epoch 14/100\n",
            "4/4 [==============================] - 0s 3ms/step - loss: 2.0751 - accuracy: 0.1852\n",
            "Epoch 15/100\n",
            "4/4 [==============================] - 0s 4ms/step - loss: 2.0746 - accuracy: 0.1852\n",
            "Epoch 16/100\n",
            "4/4 [==============================] - 0s 3ms/step - loss: 2.0742 - accuracy: 0.1852\n",
            "Epoch 17/100\n",
            "4/4 [==============================] - 0s 4ms/step - loss: 2.0739 - accuracy: 0.1852\n",
            "Epoch 18/100\n",
            "4/4 [==============================] - 0s 4ms/step - loss: 2.0738 - accuracy: 0.1852\n",
            "Epoch 19/100\n",
            "4/4 [==============================] - 0s 4ms/step - loss: 2.0732 - accuracy: 0.1852\n",
            "Epoch 20/100\n",
            "4/4 [==============================] - 0s 4ms/step - loss: 2.0732 - accuracy: 0.1852\n",
            "Epoch 21/100\n",
            "4/4 [==============================] - 0s 4ms/step - loss: 2.0727 - accuracy: 0.1852\n",
            "Epoch 22/100\n",
            "4/4 [==============================] - 0s 4ms/step - loss: 2.0723 - accuracy: 0.1852\n",
            "Epoch 23/100\n",
            "4/4 [==============================] - 0s 4ms/step - loss: 2.0720 - accuracy: 0.1852\n",
            "Epoch 24/100\n",
            "4/4 [==============================] - 0s 5ms/step - loss: 2.0714 - accuracy: 0.1852\n",
            "Epoch 25/100\n",
            "4/4 [==============================] - 0s 4ms/step - loss: 2.0714 - accuracy: 0.1852\n",
            "Epoch 26/100\n",
            "4/4 [==============================] - 0s 4ms/step - loss: 2.0709 - accuracy: 0.1852\n",
            "Epoch 27/100\n",
            "4/4 [==============================] - 0s 4ms/step - loss: 2.0708 - accuracy: 0.1852\n",
            "Epoch 28/100\n",
            "4/4 [==============================] - 0s 5ms/step - loss: 2.0708 - accuracy: 0.1852\n",
            "Epoch 29/100\n",
            "4/4 [==============================] - 0s 4ms/step - loss: 2.0706 - accuracy: 0.1852\n",
            "Epoch 30/100\n",
            "4/4 [==============================] - 0s 4ms/step - loss: 2.0701 - accuracy: 0.1852\n",
            "Epoch 31/100\n",
            "4/4 [==============================] - 0s 4ms/step - loss: 2.0701 - accuracy: 0.1852\n",
            "Epoch 32/100\n",
            "4/4 [==============================] - 0s 4ms/step - loss: 2.0701 - accuracy: 0.1852\n",
            "Epoch 33/100\n",
            "4/4 [==============================] - 0s 4ms/step - loss: 2.0697 - accuracy: 0.1852\n",
            "Epoch 34/100\n",
            "4/4 [==============================] - 0s 4ms/step - loss: 2.0693 - accuracy: 0.1852\n",
            "Epoch 35/100\n",
            "4/4 [==============================] - 0s 4ms/step - loss: 2.0692 - accuracy: 0.1852\n",
            "Epoch 36/100\n",
            "4/4 [==============================] - 0s 4ms/step - loss: 2.0692 - accuracy: 0.1852\n",
            "Epoch 37/100\n",
            "4/4 [==============================] - 0s 4ms/step - loss: 2.0686 - accuracy: 0.1852\n",
            "Epoch 38/100\n",
            "4/4 [==============================] - 0s 4ms/step - loss: 2.0685 - accuracy: 0.1852\n",
            "Epoch 39/100\n",
            "4/4 [==============================] - 0s 4ms/step - loss: 2.0680 - accuracy: 0.1852\n",
            "Epoch 40/100\n",
            "4/4 [==============================] - 0s 4ms/step - loss: 2.0675 - accuracy: 0.1852\n",
            "Epoch 41/100\n",
            "4/4 [==============================] - 0s 3ms/step - loss: 2.0674 - accuracy: 0.1852\n",
            "Epoch 42/100\n",
            "4/4 [==============================] - 0s 4ms/step - loss: 2.0671 - accuracy: 0.1852\n",
            "Epoch 43/100\n",
            "4/4 [==============================] - 0s 4ms/step - loss: 2.0670 - accuracy: 0.1852\n",
            "Epoch 44/100\n",
            "4/4 [==============================] - 0s 4ms/step - loss: 2.0665 - accuracy: 0.1852\n",
            "Epoch 45/100\n",
            "4/4 [==============================] - 0s 4ms/step - loss: 2.0666 - accuracy: 0.1852\n",
            "Epoch 46/100\n",
            "4/4 [==============================] - 0s 4ms/step - loss: 2.0664 - accuracy: 0.1852\n",
            "Epoch 47/100\n",
            "4/4 [==============================] - 0s 4ms/step - loss: 2.0665 - accuracy: 0.1852\n",
            "Epoch 48/100\n",
            "4/4 [==============================] - 0s 5ms/step - loss: 2.0661 - accuracy: 0.1852\n",
            "Epoch 49/100\n",
            "4/4 [==============================] - 0s 4ms/step - loss: 2.0664 - accuracy: 0.1852\n",
            "Epoch 50/100\n",
            "4/4 [==============================] - 0s 4ms/step - loss: 2.0660 - accuracy: 0.1852\n",
            "Epoch 51/100\n",
            "4/4 [==============================] - 0s 4ms/step - loss: 2.0660 - accuracy: 0.1852\n",
            "Epoch 52/100\n",
            "4/4 [==============================] - 0s 4ms/step - loss: 2.0653 - accuracy: 0.1852\n",
            "Epoch 53/100\n",
            "4/4 [==============================] - 0s 6ms/step - loss: 2.0653 - accuracy: 0.1852\n",
            "Epoch 54/100\n",
            "4/4 [==============================] - 0s 4ms/step - loss: 2.0655 - accuracy: 0.1852\n",
            "Epoch 55/100\n",
            "4/4 [==============================] - 0s 4ms/step - loss: 2.0652 - accuracy: 0.1852\n",
            "Epoch 56/100\n",
            "4/4 [==============================] - 0s 4ms/step - loss: 2.0649 - accuracy: 0.1852\n",
            "Epoch 57/100\n",
            "4/4 [==============================] - 0s 3ms/step - loss: 2.0651 - accuracy: 0.1852\n",
            "Epoch 58/100\n",
            "4/4 [==============================] - 0s 3ms/step - loss: 2.0649 - accuracy: 0.1852\n",
            "Epoch 59/100\n",
            "4/4 [==============================] - 0s 3ms/step - loss: 2.0647 - accuracy: 0.1852\n",
            "Epoch 60/100\n",
            "4/4 [==============================] - 0s 4ms/step - loss: 2.0646 - accuracy: 0.1852\n",
            "Epoch 61/100\n",
            "4/4 [==============================] - 0s 4ms/step - loss: 2.0647 - accuracy: 0.1852\n",
            "Epoch 62/100\n",
            "4/4 [==============================] - 0s 4ms/step - loss: 2.0645 - accuracy: 0.1852\n",
            "Epoch 63/100\n",
            "4/4 [==============================] - 0s 4ms/step - loss: 2.0642 - accuracy: 0.1852\n",
            "Epoch 64/100\n",
            "4/4 [==============================] - 0s 4ms/step - loss: 2.0644 - accuracy: 0.1852\n",
            "Epoch 65/100\n",
            "4/4 [==============================] - 0s 4ms/step - loss: 2.0639 - accuracy: 0.1852\n",
            "Epoch 66/100\n",
            "4/4 [==============================] - 0s 4ms/step - loss: 2.0638 - accuracy: 0.1852\n",
            "Epoch 67/100\n",
            "4/4 [==============================] - 0s 5ms/step - loss: 2.0635 - accuracy: 0.1852\n",
            "Epoch 68/100\n",
            "4/4 [==============================] - 0s 4ms/step - loss: 2.0638 - accuracy: 0.1852\n",
            "Epoch 69/100\n",
            "4/4 [==============================] - 0s 6ms/step - loss: 2.0632 - accuracy: 0.1852\n",
            "Epoch 70/100\n",
            "4/4 [==============================] - 0s 4ms/step - loss: 2.0633 - accuracy: 0.1852\n",
            "Epoch 71/100\n",
            "4/4 [==============================] - 0s 5ms/step - loss: 2.0632 - accuracy: 0.1852\n",
            "Epoch 72/100\n",
            "4/4 [==============================] - 0s 4ms/step - loss: 2.0629 - accuracy: 0.1852\n",
            "Epoch 73/100\n",
            "4/4 [==============================] - 0s 4ms/step - loss: 2.0630 - accuracy: 0.1852\n",
            "Epoch 74/100\n",
            "4/4 [==============================] - 0s 4ms/step - loss: 2.0630 - accuracy: 0.1852\n",
            "Epoch 75/100\n",
            "4/4 [==============================] - 0s 5ms/step - loss: 2.0625 - accuracy: 0.1852\n",
            "Epoch 76/100\n",
            "4/4 [==============================] - 0s 4ms/step - loss: 2.0625 - accuracy: 0.1852\n",
            "Epoch 77/100\n",
            "4/4 [==============================] - 0s 4ms/step - loss: 2.0624 - accuracy: 0.1852\n",
            "Epoch 78/100\n",
            "4/4 [==============================] - 0s 4ms/step - loss: 2.0624 - accuracy: 0.1852\n",
            "Epoch 79/100\n",
            "4/4 [==============================] - 0s 4ms/step - loss: 2.0625 - accuracy: 0.1852\n",
            "Epoch 80/100\n",
            "4/4 [==============================] - 0s 4ms/step - loss: 2.0621 - accuracy: 0.1852\n",
            "Epoch 81/100\n",
            "4/4 [==============================] - 0s 4ms/step - loss: 2.0622 - accuracy: 0.1852\n",
            "Epoch 82/100\n",
            "4/4 [==============================] - 0s 3ms/step - loss: 2.0621 - accuracy: 0.1852\n",
            "Epoch 83/100\n",
            "4/4 [==============================] - 0s 4ms/step - loss: 2.0622 - accuracy: 0.1852\n",
            "Epoch 84/100\n",
            "4/4 [==============================] - 0s 4ms/step - loss: 2.0620 - accuracy: 0.1852\n",
            "Epoch 85/100\n",
            "4/4 [==============================] - 0s 4ms/step - loss: 2.0619 - accuracy: 0.1852\n",
            "Epoch 86/100\n",
            "4/4 [==============================] - 0s 4ms/step - loss: 2.0620 - accuracy: 0.1852\n",
            "Epoch 87/100\n",
            "4/4 [==============================] - 0s 4ms/step - loss: 2.0618 - accuracy: 0.1852\n",
            "Epoch 88/100\n",
            "4/4 [==============================] - 0s 4ms/step - loss: 2.0616 - accuracy: 0.1852\n",
            "Epoch 89/100\n",
            "4/4 [==============================] - 0s 4ms/step - loss: 2.0617 - accuracy: 0.1852\n",
            "Epoch 90/100\n",
            "4/4 [==============================] - 0s 4ms/step - loss: 2.0615 - accuracy: 0.1852\n",
            "Epoch 91/100\n",
            "4/4 [==============================] - 0s 4ms/step - loss: 2.0615 - accuracy: 0.1852\n",
            "Epoch 92/100\n",
            "4/4 [==============================] - 0s 4ms/step - loss: 2.0613 - accuracy: 0.1852\n",
            "Epoch 93/100\n",
            "4/4 [==============================] - 0s 4ms/step - loss: 2.0611 - accuracy: 0.1852\n",
            "Epoch 94/100\n",
            "4/4 [==============================] - 0s 4ms/step - loss: 2.0613 - accuracy: 0.1852\n",
            "Epoch 95/100\n",
            "4/4 [==============================] - 0s 4ms/step - loss: 2.0610 - accuracy: 0.1852\n",
            "Epoch 96/100\n",
            "4/4 [==============================] - 0s 4ms/step - loss: 2.0610 - accuracy: 0.1852\n",
            "Epoch 97/100\n",
            "4/4 [==============================] - 0s 4ms/step - loss: 2.0611 - accuracy: 0.1852\n",
            "Epoch 98/100\n",
            "4/4 [==============================] - 0s 5ms/step - loss: 2.0611 - accuracy: 0.1852\n",
            "Epoch 99/100\n",
            "4/4 [==============================] - 0s 5ms/step - loss: 2.0607 - accuracy: 0.1852\n",
            "Epoch 100/100\n",
            "4/4 [==============================] - 0s 4ms/step - loss: 2.0608 - accuracy: 0.1852\n"
          ]
        },
        {
          "output_type": "stream",
          "name": "stderr",
          "text": [
            "WARNING:absl:Found untraced functions such as _update_step_xla while saving (showing 1 of 1). These functions will not be directly callable after loading.\n"
          ]
        }
      ]
    }
  ]
}