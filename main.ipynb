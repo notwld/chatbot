{
  "nbformat": 4,
  "nbformat_minor": 0,
  "metadata": {
    "colab": {
      "provenance": [],
      "authorship_tag": "ABX9TyMbsPal3aepAhYGAGqroBj+",
      "include_colab_link": true
    },
    "kernelspec": {
      "name": "python3",
      "display_name": "Python 3"
    },
    "language_info": {
      "name": "python"
    }
  },
  "cells": [
    {
      "cell_type": "markdown",
      "metadata": {
        "id": "view-in-github",
        "colab_type": "text"
      },
      "source": [
        "<a href=\"https://colab.research.google.com/github/notwld/chatbot/blob/main/main.ipynb\" target=\"_parent\"><img src=\"https://colab.research.google.com/assets/colab-badge.svg\" alt=\"Open In Colab\"/></a>"
      ]
    },
    {
      "cell_type": "code",
      "execution_count": 3,
      "metadata": {
        "colab": {
          "base_uri": "https://localhost:8080/"
        },
        "id": "dbxg-9gJdCxo",
        "outputId": "44770fc1-bd27-4460-8fc2-0c12310ecc04"
      },
      "outputs": [
        {
          "output_type": "stream",
          "name": "stderr",
          "text": [
            "[nltk_data] Downloading package punkt to /root/nltk_data...\n",
            "[nltk_data]   Unzipping tokenizers/punkt.zip.\n"
          ]
        }
      ],
      "source": [
        "import nltk\n",
        "nltk.download(\"punkt\")\n",
        "\n",
        "from nltk.stem import PorterStemmer\n",
        "stemmer = PorterStemmer()\n",
        "\n",
        "import tensorflow as tf\n",
        "import numpy as np\n",
        "import random,json"
      ]
    },
    {
      "cell_type": "code",
      "source": [
        "# Using google colab's files method to upload json file which contains the data \n",
        "\n",
        "from google.colab import files\n",
        "files.upload()\n"
      ],
      "metadata": {
        "colab": {
          "base_uri": "https://localhost:8080/",
          "height": 906
        },
        "id": "j5TEajvqdyBl",
        "outputId": "301a1cc6-420d-46ff-c9af-f48180fdcf52"
      },
      "execution_count": 7,
      "outputs": [
        {
          "output_type": "display_data",
          "data": {
            "text/plain": [
              "<IPython.core.display.HTML object>"
            ],
            "text/html": [
              "\n",
              "     <input type=\"file\" id=\"files-a6863f66-57bd-47bb-ae26-1710355177d2\" name=\"files[]\" multiple disabled\n",
              "        style=\"border:none\" />\n",
              "     <output id=\"result-a6863f66-57bd-47bb-ae26-1710355177d2\">\n",
              "      Upload widget is only available when the cell has been executed in the\n",
              "      current browser session. Please rerun this cell to enable.\n",
              "      </output>\n",
              "      <script>// Copyright 2017 Google LLC\n",
              "//\n",
              "// Licensed under the Apache License, Version 2.0 (the \"License\");\n",
              "// you may not use this file except in compliance with the License.\n",
              "// You may obtain a copy of the License at\n",
              "//\n",
              "//      http://www.apache.org/licenses/LICENSE-2.0\n",
              "//\n",
              "// Unless required by applicable law or agreed to in writing, software\n",
              "// distributed under the License is distributed on an \"AS IS\" BASIS,\n",
              "// WITHOUT WARRANTIES OR CONDITIONS OF ANY KIND, either express or implied.\n",
              "// See the License for the specific language governing permissions and\n",
              "// limitations under the License.\n",
              "\n",
              "/**\n",
              " * @fileoverview Helpers for google.colab Python module.\n",
              " */\n",
              "(function(scope) {\n",
              "function span(text, styleAttributes = {}) {\n",
              "  const element = document.createElement('span');\n",
              "  element.textContent = text;\n",
              "  for (const key of Object.keys(styleAttributes)) {\n",
              "    element.style[key] = styleAttributes[key];\n",
              "  }\n",
              "  return element;\n",
              "}\n",
              "\n",
              "// Max number of bytes which will be uploaded at a time.\n",
              "const MAX_PAYLOAD_SIZE = 100 * 1024;\n",
              "\n",
              "function _uploadFiles(inputId, outputId) {\n",
              "  const steps = uploadFilesStep(inputId, outputId);\n",
              "  const outputElement = document.getElementById(outputId);\n",
              "  // Cache steps on the outputElement to make it available for the next call\n",
              "  // to uploadFilesContinue from Python.\n",
              "  outputElement.steps = steps;\n",
              "\n",
              "  return _uploadFilesContinue(outputId);\n",
              "}\n",
              "\n",
              "// This is roughly an async generator (not supported in the browser yet),\n",
              "// where there are multiple asynchronous steps and the Python side is going\n",
              "// to poll for completion of each step.\n",
              "// This uses a Promise to block the python side on completion of each step,\n",
              "// then passes the result of the previous step as the input to the next step.\n",
              "function _uploadFilesContinue(outputId) {\n",
              "  const outputElement = document.getElementById(outputId);\n",
              "  const steps = outputElement.steps;\n",
              "\n",
              "  const next = steps.next(outputElement.lastPromiseValue);\n",
              "  return Promise.resolve(next.value.promise).then((value) => {\n",
              "    // Cache the last promise value to make it available to the next\n",
              "    // step of the generator.\n",
              "    outputElement.lastPromiseValue = value;\n",
              "    return next.value.response;\n",
              "  });\n",
              "}\n",
              "\n",
              "/**\n",
              " * Generator function which is called between each async step of the upload\n",
              " * process.\n",
              " * @param {string} inputId Element ID of the input file picker element.\n",
              " * @param {string} outputId Element ID of the output display.\n",
              " * @return {!Iterable<!Object>} Iterable of next steps.\n",
              " */\n",
              "function* uploadFilesStep(inputId, outputId) {\n",
              "  const inputElement = document.getElementById(inputId);\n",
              "  inputElement.disabled = false;\n",
              "\n",
              "  const outputElement = document.getElementById(outputId);\n",
              "  outputElement.innerHTML = '';\n",
              "\n",
              "  const pickedPromise = new Promise((resolve) => {\n",
              "    inputElement.addEventListener('change', (e) => {\n",
              "      resolve(e.target.files);\n",
              "    });\n",
              "  });\n",
              "\n",
              "  const cancel = document.createElement('button');\n",
              "  inputElement.parentElement.appendChild(cancel);\n",
              "  cancel.textContent = 'Cancel upload';\n",
              "  const cancelPromise = new Promise((resolve) => {\n",
              "    cancel.onclick = () => {\n",
              "      resolve(null);\n",
              "    };\n",
              "  });\n",
              "\n",
              "  // Wait for the user to pick the files.\n",
              "  const files = yield {\n",
              "    promise: Promise.race([pickedPromise, cancelPromise]),\n",
              "    response: {\n",
              "      action: 'starting',\n",
              "    }\n",
              "  };\n",
              "\n",
              "  cancel.remove();\n",
              "\n",
              "  // Disable the input element since further picks are not allowed.\n",
              "  inputElement.disabled = true;\n",
              "\n",
              "  if (!files) {\n",
              "    return {\n",
              "      response: {\n",
              "        action: 'complete',\n",
              "      }\n",
              "    };\n",
              "  }\n",
              "\n",
              "  for (const file of files) {\n",
              "    const li = document.createElement('li');\n",
              "    li.append(span(file.name, {fontWeight: 'bold'}));\n",
              "    li.append(span(\n",
              "        `(${file.type || 'n/a'}) - ${file.size} bytes, ` +\n",
              "        `last modified: ${\n",
              "            file.lastModifiedDate ? file.lastModifiedDate.toLocaleDateString() :\n",
              "                                    'n/a'} - `));\n",
              "    const percent = span('0% done');\n",
              "    li.appendChild(percent);\n",
              "\n",
              "    outputElement.appendChild(li);\n",
              "\n",
              "    const fileDataPromise = new Promise((resolve) => {\n",
              "      const reader = new FileReader();\n",
              "      reader.onload = (e) => {\n",
              "        resolve(e.target.result);\n",
              "      };\n",
              "      reader.readAsArrayBuffer(file);\n",
              "    });\n",
              "    // Wait for the data to be ready.\n",
              "    let fileData = yield {\n",
              "      promise: fileDataPromise,\n",
              "      response: {\n",
              "        action: 'continue',\n",
              "      }\n",
              "    };\n",
              "\n",
              "    // Use a chunked sending to avoid message size limits. See b/62115660.\n",
              "    let position = 0;\n",
              "    do {\n",
              "      const length = Math.min(fileData.byteLength - position, MAX_PAYLOAD_SIZE);\n",
              "      const chunk = new Uint8Array(fileData, position, length);\n",
              "      position += length;\n",
              "\n",
              "      const base64 = btoa(String.fromCharCode.apply(null, chunk));\n",
              "      yield {\n",
              "        response: {\n",
              "          action: 'append',\n",
              "          file: file.name,\n",
              "          data: base64,\n",
              "        },\n",
              "      };\n",
              "\n",
              "      let percentDone = fileData.byteLength === 0 ?\n",
              "          100 :\n",
              "          Math.round((position / fileData.byteLength) * 100);\n",
              "      percent.textContent = `${percentDone}% done`;\n",
              "\n",
              "    } while (position < fileData.byteLength);\n",
              "  }\n",
              "\n",
              "  // All done.\n",
              "  yield {\n",
              "    response: {\n",
              "      action: 'complete',\n",
              "    }\n",
              "  };\n",
              "}\n",
              "\n",
              "scope.google = scope.google || {};\n",
              "scope.google.colab = scope.google.colab || {};\n",
              "scope.google.colab._files = {\n",
              "  _uploadFiles,\n",
              "  _uploadFilesContinue,\n",
              "};\n",
              "})(self);\n",
              "</script> "
            ]
          },
          "metadata": {}
        },
        {
          "output_type": "stream",
          "name": "stdout",
          "text": [
            "Saving intents.json to intents.json\n"
          ]
        },
        {
          "output_type": "execute_result",
          "data": {
            "text/plain": [
              "{'intents.json': b'{\\r\\n        \"intents\": [\\r\\n                {\\r\\n                        \"tag\": \"greeting\",\\r\\n                        \"patterns\": [\\r\\n                                \"Hi\",\\r\\n                                \"How are you\",\\r\\n                                \"Is anyone there?\",\\r\\n                                \"Hello\",\\r\\n                                \"Good day\"\\r\\n                        ],\\r\\n                        \"responses\": [\\r\\n                                \"Hello, thanks for visiting\",\\r\\n                                \"Good to see you again\",\\r\\n                                \"Hi there, how can I help?\"\\r\\n                        ],\\r\\n                        \"context_set\": \"\"\\r\\n                },\\r\\n                {\\r\\n                        \"tag\": \"goodbye\",\\r\\n                        \"patterns\": [\\r\\n                                \"Bye\",\\r\\n                                \"See you later\",\\r\\n                                \"Goodbye\"\\r\\n                        ],\\r\\n                        \"responses\": [\\r\\n                                \"See you later, thanks for visiting\",\\r\\n                                \"Have a nice day\",\\r\\n                                \"Bye! Come back again soon.\"\\r\\n                        ]\\r\\n                },\\r\\n                {\\r\\n                        \"tag\": \"thanks\",\\r\\n                        \"patterns\": [\\r\\n                                \"Thanks\",\\r\\n                                \"Thank you\",\\r\\n                                \"That\\'s helpful\"\\r\\n                        ],\\r\\n                        \"responses\": [\\r\\n                                \"Happy to help!\",\\r\\n                                \"Any time!\",\\r\\n                                \"My pleasure\"\\r\\n                        ]\\r\\n                },\\r\\n                {\\r\\n                        \"tag\": \"chatbot\",\\r\\n                        \"patterns\": [\\r\\n                                \"Who built this chatbot?\",\\r\\n                                \"Tell me about Chatbot\",\\r\\n                                \"What is this chatbot name?\"\\r\\n                        ],\\r\\n                        \"responses\": [\\r\\n                                \"Hi, I am Chatbot designed by Mayank.\",\\r\\n                                \"Thanks for asking. I am designed by Mayank Bajaj.\",\\r\\n                                \"I am a chatbot.\"\\r\\n                        ]\\r\\n                },\\r\\n                {\\r\\n                        \"tag\": \"location\",\\r\\n                        \"patterns\": [\\r\\n                                \"What is your location?\",\\r\\n                                \"Where are you located?\",\\r\\n                                \"What is your address?\"\\r\\n                        ],\\r\\n                        \"responses\": [\\r\\n                                \"We are from World\\'s largest Democracy India.\",\\r\\n                                \"You can visit India to meet us\",\\r\\n                                \"Thans for your Interest. I live in India.\"\\r\\n                        ]\\r\\n                },\\r\\n                {\\r\\n                        \"tag\": \"connect\",\\r\\n                        \"patterns\": [\\r\\n                                \"Give me your social media accounts link\",\\r\\n                                \"Where can we connect\",\\r\\n                                \"How can i reach out to you?\",\\r\\n                                \"Is there any way we can connect\"\\r\\n                        ],\\r\\n                        \"responses\": [\\r\\n                                \"You can connect me on Linkedin or Github \\\\n Linkedin - https://www.linkedin.com/in/mayank-bajaj/ \\\\n Github - https://github.com/mayank8200\",\\r\\n                                \"You can visit https://mayank-bajaj.me\"\\r\\n                        ]\\r\\n                },\\r\\n                {\\r\\n                        \"tag\": \"movies\",\\r\\n                        \"patterns\": [\\r\\n                                \"Which is your favourite movie?\",\\r\\n                                \"Suggest me some movies\",\\r\\n                                \"Recommend movies\"\\r\\n                        ],\\r\\n                        \"responses\": [\\r\\n                                \"3 idiots\",\\r\\n                                \"Hera Pheri\",\\r\\n                                \"Lage Raho Munna Bhai\",\\r\\n                                \"OMG: Oh My God!\",\\r\\n                                \"PK\",\\r\\n                                \"Yeh Jawani hai Deewani\",\\r\\n                                \"Zindagi na Milegi Doobara\",\\r\\n                                \"Ludo\"\\r\\n                        ]\\r\\n                },\\r\\n                {\\r\\n                        \"tag\": \"about\",\\r\\n                        \"patterns\": [\\r\\n                                \"Who are you?\",\\r\\n                                \"Tell me about Yourself\",\\r\\n                                \"What is this?\"\\r\\n                        ],\\r\\n                        \"responses\": [\\r\\n                                \"Hi, I am Mayank. Nice to meet you. I made this chatbot for fun and practice.\",\\r\\n                                \"Thanks for asking. I am Mayank Bajaj, coder by profession but ML enthusiast by passion.\"\\r\\n                        ]\\r\\n                }\\r\\n               \\r\\n        ]\\r\\n}'}"
            ]
          },
          "metadata": {},
          "execution_count": 7
        }
      ]
    },
    {
      "cell_type": "code",
      "source": [
        "with open(\"intents.json\",'r') as data:\n",
        "  intents = json.load(data)"
      ],
      "metadata": {
        "id": "I9ubHMBfeEGD"
      },
      "execution_count": 8,
      "outputs": []
    },
    {
      "cell_type": "code",
      "source": [
        "intents"
      ],
      "metadata": {
        "id": "tk9AOMB0fXgj"
      },
      "execution_count": null,
      "outputs": []
    },
    {
      "cell_type": "code",
      "source": [
        "words = []\n",
        "classes = []\n",
        "documents = []\n",
        "ignore = [\"?\"]"
      ],
      "metadata": {
        "id": "i_1vekVUfrGq"
      },
      "execution_count": 10,
      "outputs": []
    },
    {
      "cell_type": "code",
      "source": [
        "# data preprocessing: looping through json file which is saved in variable \n",
        "# intents and tokenizing the patterns, extract word with it's tag and saving \n",
        "# them in the list.\n",
        "\n",
        "for intent in intents[\"intents\"]:\n",
        "  for pattern in intent[\"patterns\"]:\n",
        "    word = nltk.word_tokenize(pattern)\n",
        "    words.extend(word)\n",
        "\n",
        "    documents.append((word,intent[\"tag\"]))\n",
        "    if intent['tag'] not in classes:\n",
        "      classes.append(intent['tag'])\n",
        "\n"
      ],
      "metadata": {
        "id": "GhRrR3AHgXRC"
      },
      "execution_count": 11,
      "outputs": []
    },
    {
      "cell_type": "code",
      "source": [
        "words = [stemmer.stem(word.lower()) for word in words if word not in ignore]\n",
        "words = sorted(list(set(words)))\n",
        "\n",
        "classes = sorted(list(set(classes)))\n"
      ],
      "metadata": {
        "id": "Ow76NN8MidyP"
      },
      "execution_count": 12,
      "outputs": []
    },
    {
      "cell_type": "code",
      "source": [
        "print(\"Total documents:\", len(documents))\n",
        "print(\"Total classes:\", len(classes))\n",
        "print(\"Total unique words:\", len(words))"
      ],
      "metadata": {
        "colab": {
          "base_uri": "https://localhost:8080/"
        },
        "id": "qrn1mLTTjHHx",
        "outputId": "ff54583b-b965-4c7f-b50e-3eb131d6afaf"
      },
      "execution_count": 13,
      "outputs": [
        {
          "output_type": "stream",
          "name": "stdout",
          "text": [
            "Total documents: 27\n",
            "Total classes: 8\n",
            "Total unique words: 52\n"
          ]
        }
      ]
    },
    {
      "cell_type": "code",
      "source": [
        "# creating lists for training the data\n",
        "\n",
        "train = [] # f(x)\n",
        "output = [] # f(y)\n",
        "\n",
        "output_empty = [0] * len(classes)"
      ],
      "metadata": {
        "id": "pqWFzi5zmOix"
      },
      "execution_count": 14,
      "outputs": []
    },
    {
      "cell_type": "code",
      "source": [
        "#test\n",
        "\n",
        "documents[0]"
      ],
      "metadata": {
        "colab": {
          "base_uri": "https://localhost:8080/"
        },
        "id": "NtZBWJEBnRAK",
        "outputId": "b2d4c47a-9239-4945-9c4c-ea07f4d7833b"
      },
      "execution_count": 15,
      "outputs": [
        {
          "output_type": "execute_result",
          "data": {
            "text/plain": [
              "(['Hi'], 'greeting')"
            ]
          },
          "metadata": {},
          "execution_count": 15
        }
      ]
    },
    {
      "cell_type": "code",
      "source": [
        "for doc in documents:\n",
        "  bag = []\n",
        "  pattern_words = doc[0]\n",
        "  pattern_words = [stemmer.stem(word.lower()) for word in pattern_words]\n",
        "  for w in words:\n",
        "    bag.append(1) if word in pattern_words else bag.append(0)\n",
        "\n",
        "  output_row = list(output_empty)\n",
        "  output_row[classes.index(doc[1])]=1\n",
        "\n",
        "  train.append([bag,output_row])\n",
        "\n",
        "random.shuffle(train)\n",
        "\n",
        "train = np.array(train)\n",
        "\n",
        "x = list(train[:,0])\n",
        "y = list(train[:,1])\n"
      ],
      "metadata": {
        "colab": {
          "base_uri": "https://localhost:8080/"
        },
        "id": "yJKFDuf9nWGS",
        "outputId": "259cf977-0332-4b6a-b6f8-b403fbcead4b"
      },
      "execution_count": 16,
      "outputs": [
        {
          "output_type": "stream",
          "name": "stderr",
          "text": [
            "<ipython-input-16-719e020afe1d>:15: VisibleDeprecationWarning: Creating an ndarray from ragged nested sequences (which is a list-or-tuple of lists-or-tuples-or ndarrays with different lengths or shapes) is deprecated. If you meant to do this, you must specify 'dtype=object' when creating the ndarray.\n",
            "  train = np.array(train)\n"
          ]
        }
      ]
    },
    {
      "cell_type": "code",
      "source": [
        "model = tf.keras.Sequential()\n",
        "model.add(tf.keras.layers.Dense(10,input_shape=(len(x[0]),)))\n",
        "model.add(tf.keras.layers.Dense(10))\n",
        "model.add(tf.keras.layers.Dense(len(y[0]),activation=\"softmax\"))\n",
        "\n",
        "model.compile(tf.keras.optimizers.Adam(),loss=\"categorical_crossentropy\",metrics=[\"accuracy\"])"
      ],
      "metadata": {
        "id": "aj8ncOWOuZFR"
      },
      "execution_count": 17,
      "outputs": []
    },
    {
      "cell_type": "code",
      "source": [
        "model.fit(np.array(x),np.array(y),epochs=100,batch_size=8,verbose=1)\n",
        "model.save(\"model.pkl\")"
      ],
      "metadata": {
        "colab": {
          "base_uri": "https://localhost:8080/"
        },
        "id": "tNOr9PobwPyX",
        "outputId": "8ce23487-4f86-4c7c-b391-f0512f607ca5"
      },
      "execution_count": 18,
      "outputs": [
        {
          "output_type": "stream",
          "name": "stdout",
          "text": [
            "Epoch 1/100\n",
            "4/4 [==============================] - 1s 6ms/step - loss: 2.0806 - accuracy: 0.0000e+00\n",
            "Epoch 2/100\n",
            "4/4 [==============================] - 0s 4ms/step - loss: 2.0791 - accuracy: 0.1852\n",
            "Epoch 3/100\n",
            "4/4 [==============================] - 0s 4ms/step - loss: 2.0785 - accuracy: 0.1852\n",
            "Epoch 4/100\n",
            "4/4 [==============================] - 0s 4ms/step - loss: 2.0778 - accuracy: 0.1852\n",
            "Epoch 5/100\n",
            "4/4 [==============================] - 0s 4ms/step - loss: 2.0776 - accuracy: 0.1852\n",
            "Epoch 6/100\n",
            "4/4 [==============================] - 0s 4ms/step - loss: 2.0771 - accuracy: 0.1852\n",
            "Epoch 7/100\n",
            "4/4 [==============================] - 0s 5ms/step - loss: 2.0762 - accuracy: 0.1852\n",
            "Epoch 8/100\n",
            "4/4 [==============================] - 0s 4ms/step - loss: 2.0758 - accuracy: 0.1852\n",
            "Epoch 9/100\n",
            "4/4 [==============================] - 0s 6ms/step - loss: 2.0755 - accuracy: 0.1852\n",
            "Epoch 10/100\n",
            "4/4 [==============================] - 0s 5ms/step - loss: 2.0746 - accuracy: 0.1852\n",
            "Epoch 11/100\n",
            "4/4 [==============================] - 0s 4ms/step - loss: 2.0740 - accuracy: 0.1852\n",
            "Epoch 12/100\n",
            "4/4 [==============================] - 0s 4ms/step - loss: 2.0740 - accuracy: 0.1852\n",
            "Epoch 13/100\n",
            "4/4 [==============================] - 0s 7ms/step - loss: 2.0735 - accuracy: 0.1852\n",
            "Epoch 14/100\n",
            "4/4 [==============================] - 0s 4ms/step - loss: 2.0728 - accuracy: 0.1852\n",
            "Epoch 15/100\n",
            "4/4 [==============================] - 0s 4ms/step - loss: 2.0725 - accuracy: 0.1852\n",
            "Epoch 16/100\n",
            "4/4 [==============================] - 0s 4ms/step - loss: 2.0717 - accuracy: 0.1852\n",
            "Epoch 17/100\n",
            "4/4 [==============================] - 0s 4ms/step - loss: 2.0712 - accuracy: 0.1852\n",
            "Epoch 18/100\n",
            "4/4 [==============================] - 0s 4ms/step - loss: 2.0710 - accuracy: 0.1852\n",
            "Epoch 19/100\n",
            "4/4 [==============================] - 0s 4ms/step - loss: 2.0702 - accuracy: 0.1852\n",
            "Epoch 20/100\n",
            "4/4 [==============================] - 0s 4ms/step - loss: 2.0701 - accuracy: 0.1852\n",
            "Epoch 21/100\n",
            "4/4 [==============================] - 0s 5ms/step - loss: 2.0697 - accuracy: 0.1852\n",
            "Epoch 22/100\n",
            "4/4 [==============================] - 0s 4ms/step - loss: 2.0691 - accuracy: 0.1852\n",
            "Epoch 23/100\n",
            "4/4 [==============================] - 0s 4ms/step - loss: 2.0690 - accuracy: 0.1852\n",
            "Epoch 24/100\n",
            "4/4 [==============================] - 0s 4ms/step - loss: 2.0686 - accuracy: 0.1852\n",
            "Epoch 25/100\n",
            "4/4 [==============================] - 0s 5ms/step - loss: 2.0683 - accuracy: 0.1852\n",
            "Epoch 26/100\n",
            "4/4 [==============================] - 0s 4ms/step - loss: 2.0684 - accuracy: 0.1852\n",
            "Epoch 27/100\n",
            "4/4 [==============================] - 0s 4ms/step - loss: 2.0680 - accuracy: 0.1852\n",
            "Epoch 28/100\n",
            "4/4 [==============================] - 0s 4ms/step - loss: 2.0675 - accuracy: 0.1852\n",
            "Epoch 29/100\n",
            "4/4 [==============================] - 0s 5ms/step - loss: 2.0671 - accuracy: 0.1852\n",
            "Epoch 30/100\n",
            "4/4 [==============================] - 0s 4ms/step - loss: 2.0668 - accuracy: 0.1852\n",
            "Epoch 31/100\n",
            "4/4 [==============================] - 0s 4ms/step - loss: 2.0666 - accuracy: 0.1852\n",
            "Epoch 32/100\n",
            "4/4 [==============================] - 0s 4ms/step - loss: 2.0663 - accuracy: 0.1852\n",
            "Epoch 33/100\n",
            "4/4 [==============================] - 0s 4ms/step - loss: 2.0660 - accuracy: 0.1852\n",
            "Epoch 34/100\n",
            "4/4 [==============================] - 0s 5ms/step - loss: 2.0662 - accuracy: 0.1852\n",
            "Epoch 35/100\n",
            "4/4 [==============================] - 0s 3ms/step - loss: 2.0654 - accuracy: 0.1852\n",
            "Epoch 36/100\n",
            "4/4 [==============================] - 0s 4ms/step - loss: 2.0652 - accuracy: 0.1852\n",
            "Epoch 37/100\n",
            "4/4 [==============================] - 0s 4ms/step - loss: 2.0650 - accuracy: 0.1852\n",
            "Epoch 38/100\n",
            "4/4 [==============================] - 0s 4ms/step - loss: 2.0648 - accuracy: 0.1852\n",
            "Epoch 39/100\n",
            "4/4 [==============================] - 0s 4ms/step - loss: 2.0645 - accuracy: 0.1852\n",
            "Epoch 40/100\n",
            "4/4 [==============================] - 0s 4ms/step - loss: 2.0642 - accuracy: 0.1852\n",
            "Epoch 41/100\n",
            "4/4 [==============================] - 0s 4ms/step - loss: 2.0638 - accuracy: 0.1852\n",
            "Epoch 42/100\n",
            "4/4 [==============================] - 0s 4ms/step - loss: 2.0636 - accuracy: 0.1852\n",
            "Epoch 43/100\n",
            "4/4 [==============================] - 0s 4ms/step - loss: 2.0635 - accuracy: 0.1852\n",
            "Epoch 44/100\n",
            "4/4 [==============================] - 0s 5ms/step - loss: 2.0637 - accuracy: 0.1852\n",
            "Epoch 45/100\n",
            "4/4 [==============================] - 0s 5ms/step - loss: 2.0630 - accuracy: 0.1852\n",
            "Epoch 46/100\n",
            "4/4 [==============================] - 0s 4ms/step - loss: 2.0627 - accuracy: 0.1852\n",
            "Epoch 47/100\n",
            "4/4 [==============================] - 0s 4ms/step - loss: 2.0630 - accuracy: 0.1852\n",
            "Epoch 48/100\n",
            "4/4 [==============================] - 0s 4ms/step - loss: 2.0627 - accuracy: 0.1852\n",
            "Epoch 49/100\n",
            "4/4 [==============================] - 0s 4ms/step - loss: 2.0624 - accuracy: 0.1852\n",
            "Epoch 50/100\n",
            "4/4 [==============================] - 0s 4ms/step - loss: 2.0624 - accuracy: 0.1852\n",
            "Epoch 51/100\n",
            "4/4 [==============================] - 0s 4ms/step - loss: 2.0619 - accuracy: 0.1852\n",
            "Epoch 52/100\n",
            "4/4 [==============================] - 0s 5ms/step - loss: 2.0623 - accuracy: 0.1852\n",
            "Epoch 53/100\n",
            "4/4 [==============================] - 0s 4ms/step - loss: 2.0621 - accuracy: 0.1852\n",
            "Epoch 54/100\n",
            "4/4 [==============================] - 0s 4ms/step - loss: 2.0616 - accuracy: 0.1852\n",
            "Epoch 55/100\n",
            "4/4 [==============================] - 0s 4ms/step - loss: 2.0614 - accuracy: 0.1852\n",
            "Epoch 56/100\n",
            "4/4 [==============================] - 0s 4ms/step - loss: 2.0612 - accuracy: 0.1852\n",
            "Epoch 57/100\n",
            "4/4 [==============================] - 0s 4ms/step - loss: 2.0614 - accuracy: 0.1852\n",
            "Epoch 58/100\n",
            "4/4 [==============================] - 0s 5ms/step - loss: 2.0611 - accuracy: 0.1852\n",
            "Epoch 59/100\n",
            "4/4 [==============================] - 0s 6ms/step - loss: 2.0609 - accuracy: 0.1852\n",
            "Epoch 60/100\n",
            "4/4 [==============================] - 0s 5ms/step - loss: 2.0613 - accuracy: 0.1852\n",
            "Epoch 61/100\n",
            "4/4 [==============================] - 0s 4ms/step - loss: 2.0611 - accuracy: 0.1852\n",
            "Epoch 62/100\n",
            "4/4 [==============================] - 0s 5ms/step - loss: 2.0608 - accuracy: 0.1852\n",
            "Epoch 63/100\n",
            "4/4 [==============================] - 0s 4ms/step - loss: 2.0611 - accuracy: 0.1852\n",
            "Epoch 64/100\n",
            "4/4 [==============================] - 0s 4ms/step - loss: 2.0612 - accuracy: 0.1852\n",
            "Epoch 65/100\n",
            "4/4 [==============================] - 0s 4ms/step - loss: 2.0612 - accuracy: 0.1852\n",
            "Epoch 66/100\n",
            "4/4 [==============================] - 0s 4ms/step - loss: 2.0610 - accuracy: 0.1852\n",
            "Epoch 67/100\n",
            "4/4 [==============================] - 0s 4ms/step - loss: 2.0611 - accuracy: 0.1852\n",
            "Epoch 68/100\n",
            "4/4 [==============================] - 0s 5ms/step - loss: 2.0611 - accuracy: 0.1852\n",
            "Epoch 69/100\n",
            "4/4 [==============================] - 0s 4ms/step - loss: 2.0610 - accuracy: 0.1852\n",
            "Epoch 70/100\n",
            "4/4 [==============================] - 0s 4ms/step - loss: 2.0610 - accuracy: 0.1852\n",
            "Epoch 71/100\n",
            "4/4 [==============================] - 0s 4ms/step - loss: 2.0614 - accuracy: 0.1852\n",
            "Epoch 72/100\n",
            "4/4 [==============================] - 0s 5ms/step - loss: 2.0613 - accuracy: 0.1852\n",
            "Epoch 73/100\n",
            "4/4 [==============================] - 0s 4ms/step - loss: 2.0612 - accuracy: 0.1852\n",
            "Epoch 74/100\n",
            "4/4 [==============================] - 0s 4ms/step - loss: 2.0613 - accuracy: 0.1852\n",
            "Epoch 75/100\n",
            "4/4 [==============================] - 0s 4ms/step - loss: 2.0611 - accuracy: 0.1852\n",
            "Epoch 76/100\n",
            "4/4 [==============================] - 0s 6ms/step - loss: 2.0612 - accuracy: 0.1852\n",
            "Epoch 77/100\n",
            "4/4 [==============================] - 0s 4ms/step - loss: 2.0611 - accuracy: 0.1852\n",
            "Epoch 78/100\n",
            "4/4 [==============================] - 0s 4ms/step - loss: 2.0610 - accuracy: 0.1852\n",
            "Epoch 79/100\n",
            "4/4 [==============================] - 0s 4ms/step - loss: 2.0611 - accuracy: 0.1852\n",
            "Epoch 80/100\n",
            "4/4 [==============================] - 0s 4ms/step - loss: 2.0609 - accuracy: 0.1852\n",
            "Epoch 81/100\n",
            "4/4 [==============================] - 0s 4ms/step - loss: 2.0609 - accuracy: 0.1852\n",
            "Epoch 82/100\n",
            "4/4 [==============================] - 0s 4ms/step - loss: 2.0607 - accuracy: 0.1852\n",
            "Epoch 83/100\n",
            "4/4 [==============================] - 0s 4ms/step - loss: 2.0607 - accuracy: 0.1852\n",
            "Epoch 84/100\n",
            "4/4 [==============================] - 0s 4ms/step - loss: 2.0610 - accuracy: 0.1852\n",
            "Epoch 85/100\n",
            "4/4 [==============================] - 0s 4ms/step - loss: 2.0612 - accuracy: 0.1852\n",
            "Epoch 86/100\n",
            "4/4 [==============================] - 0s 3ms/step - loss: 2.0609 - accuracy: 0.1852\n",
            "Epoch 87/100\n",
            "4/4 [==============================] - 0s 4ms/step - loss: 2.0604 - accuracy: 0.1852\n",
            "Epoch 88/100\n",
            "4/4 [==============================] - 0s 4ms/step - loss: 2.0604 - accuracy: 0.1852\n",
            "Epoch 89/100\n",
            "4/4 [==============================] - 0s 4ms/step - loss: 2.0602 - accuracy: 0.1852\n",
            "Epoch 90/100\n",
            "4/4 [==============================] - 0s 4ms/step - loss: 2.0603 - accuracy: 0.1852\n",
            "Epoch 91/100\n",
            "4/4 [==============================] - 0s 4ms/step - loss: 2.0606 - accuracy: 0.1852\n",
            "Epoch 92/100\n",
            "4/4 [==============================] - 0s 4ms/step - loss: 2.0605 - accuracy: 0.1852\n",
            "Epoch 93/100\n",
            "4/4 [==============================] - 0s 7ms/step - loss: 2.0607 - accuracy: 0.1852\n",
            "Epoch 94/100\n",
            "4/4 [==============================] - 0s 4ms/step - loss: 2.0607 - accuracy: 0.1852\n",
            "Epoch 95/100\n",
            "4/4 [==============================] - 0s 4ms/step - loss: 2.0609 - accuracy: 0.1852\n",
            "Epoch 96/100\n",
            "4/4 [==============================] - 0s 4ms/step - loss: 2.0606 - accuracy: 0.1852\n",
            "Epoch 97/100\n",
            "4/4 [==============================] - 0s 4ms/step - loss: 2.0605 - accuracy: 0.1852\n",
            "Epoch 98/100\n",
            "4/4 [==============================] - 0s 4ms/step - loss: 2.0607 - accuracy: 0.1852\n",
            "Epoch 99/100\n",
            "4/4 [==============================] - 0s 4ms/step - loss: 2.0606 - accuracy: 0.1852\n",
            "Epoch 100/100\n",
            "4/4 [==============================] - 0s 4ms/step - loss: 2.0605 - accuracy: 0.1852\n"
          ]
        },
        {
          "output_type": "stream",
          "name": "stderr",
          "text": [
            "WARNING:absl:Found untraced functions such as _update_step_xla while saving (showing 1 of 1). These functions will not be directly callable after loading.\n"
          ]
        }
      ]
    },
    {
      "cell_type": "code",
      "source": [
        "# prediction\n",
        "\n",
        "import pickle\n",
        "pickle.dump({\"words\":words,\"classes\":classes},open(\"training_data\",\"wb\"))\n",
        "\n"
      ],
      "metadata": {
        "id": "Pik25VeS9lEY"
      },
      "execution_count": 27,
      "outputs": []
    },
    {
      "cell_type": "code",
      "source": [
        "from keras.models import load_model\n",
        "model = load_model(\"model.pkl\")"
      ],
      "metadata": {
        "id": "agzOqwP4stmb"
      },
      "execution_count": 28,
      "outputs": []
    },
    {
      "cell_type": "code",
      "source": [
        "with open(\"training_data\",\"rb\") as data:\n",
        "  data = pickle.load(data)\n",
        "  words = data[\"words\"]\n",
        "  classes = data[\"classes\"]\n"
      ],
      "metadata": {
        "id": "Quc0TUgAtces"
      },
      "execution_count": 29,
      "outputs": []
    },
    {
      "cell_type": "code",
      "source": [
        "with open(\"intents.json\",'r') as data:\n",
        "  intents = json.load(data)"
      ],
      "metadata": {
        "id": "ZsDzXhXAvLb7"
      },
      "execution_count": 30,
      "outputs": []
    },
    {
      "cell_type": "code",
      "source": [
        "def cleanUp(sentence):\n",
        "  words = nltk.word_tokenize(sentence)\n",
        "  return [stemmer.stem(word.lower()) for word in words]"
      ],
      "metadata": {
        "id": "fu1FEREYvQVd"
      },
      "execution_count": 31,
      "outputs": []
    },
    {
      "cell_type": "code",
      "source": [
        "def bow(sentence, words):\n",
        "  sentence = cleanUp(sentence)\n",
        "  bag = [0] * len(words)\n",
        "  for s in sentence:\n",
        "    for i,w in enumerate(words):\n",
        "      if w==s:\n",
        "        bag[i] = 1\n",
        "\n",
        "  return (np.array(bag))"
      ],
      "metadata": {
        "id": "lXvZTJZHv1EK"
      },
      "execution_count": 32,
      "outputs": []
    },
    {
      "cell_type": "code",
      "source": [],
      "metadata": {
        "id": "hieSKtcbyHtl"
      },
      "execution_count": null,
      "outputs": []
    }
  ]
}